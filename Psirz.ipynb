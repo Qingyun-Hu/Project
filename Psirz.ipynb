{
 "cells": [
  {
   "cell_type": "code",
   "execution_count": 3,
   "id": "ddc23f0f-d9b4-430f-9fa9-180fb57f396e",
   "metadata": {},
   "outputs": [
    {
     "name": "stdout",
     "output_type": "stream",
     "text": [
      "Root found at (r, z): [ 9.08224849e-02 -2.83436781e+04]\n"
     ]
    },
    {
     "name": "stderr",
     "output_type": "stream",
     "text": [
      "/var/folders/0w/1l1c66755tj887s6q3mtbvw00000gn/T/ipykernel_36349/4090441091.py:25: RuntimeWarning: The iteration is not making good progress, as measured by the \n",
      "  improvement from the last ten iterations.\n",
      "  result = fsolve(system_of_equations, initial_guess)\n"
     ]
    }
   ],
   "source": [
    "import numpy as np\n",
    "from scipy.interpolate import RectBivariateSpline\n",
    "from scipy.optimize import fsolve\n",
    "\n",
    "# Example data\n",
    "r_values = np.linspace(-1, 1, 50)\n",
    "z_values = np.linspace(-1, 1, 50)\n",
    "R, Z = np.meshgrid(r_values, z_values)\n",
    "psi_values = np.sin(np.pi * R) * np.cos(np.pi * Z)  # Example function\n",
    "\n",
    "# Create spline\n",
    "psi_spline = RectBivariateSpline(r_values, z_values, psi_values)\n",
    "\n",
    "# Define a system of equations: psi(r, z) = 0 and ∂psi/∂r or ∂psi/∂z = 0\n",
    "def system_of_equations(x):\n",
    "    r, z = x\n",
    "    psi = psi_spline(r, z)[0, 0]\n",
    "    dpsi_dr = psi_spline.ev(r, z, dx=1, dy=0)  # Partial derivative ∂psi/∂r\n",
    "    return [psi, dpsi_dr]\n",
    "\n",
    "# Initial guess for [r, z]\n",
    "initial_guess = [0.5, 0.5]\n",
    "\n",
    "# Solve the system of equations\n",
    "result = fsolve(system_of_equations, initial_guess)\n",
    "\n",
    "if np.allclose(system_of_equations(result), [0, 0], atol=1e-6):\n",
    "    print(f\"Root found at (r, z): {result}\")\n",
    "else:\n",
    "    print(\"Solution did not converge.\")\n"
   ]
  },
  {
   "cell_type": "code",
   "execution_count": null,
   "id": "6868ae61-6bd4-4ac8-8ec1-0f9220717906",
   "metadata": {},
   "outputs": [],
   "source": []
  }
 ],
 "metadata": {
  "kernelspec": {
   "display_name": "Python [conda env:base] *",
   "language": "python",
   "name": "conda-base-py"
  },
  "language_info": {
   "codemirror_mode": {
    "name": "ipython",
    "version": 3
   },
   "file_extension": ".py",
   "mimetype": "text/x-python",
   "name": "python",
   "nbconvert_exporter": "python",
   "pygments_lexer": "ipython3",
   "version": "3.12.7"
  }
 },
 "nbformat": 4,
 "nbformat_minor": 5
}
